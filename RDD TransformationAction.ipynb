{
 "cells": [
  {
   "cell_type": "code",
   "execution_count": 1,
   "metadata": {},
   "outputs": [
    {
     "name": "stdout",
     "output_type": "stream",
     "text": [
      "Squared data before reduce: [1, 4, 9, 16, 25]\n",
      "Original data: [1, 2, 3, 4, 5]\n",
      "Sum of squared values: 55\n"
     ]
    }
   ],
   "source": [
    "from pyspark import SparkContext\n",
    "from pyspark.sql import SparkSession\n",
    "\n",
    "# Try to get or create a SparkContext\n",
    "try:\n",
    "    sc = SparkContext.getOrCreate()\n",
    "except ValueError as e:\n",
    "    print(e)  # This will print the \"insecure Py4j gateway\" error, but it's expected\n",
    "    sc = SparkContext(\"local\", \"SimpleRDDExample\")\n",
    "\n",
    "# Create a SparkSession\n",
    "spark = SparkSession(sc)\n",
    "\n",
    "# Create an RDD from a list of numbers\n",
    "data = [1, 2, 3, 4, 5]\n",
    "rdd = sc.parallelize(data)\n",
    "\n",
    "# Transformation: Square each element\n",
    "squared_rdd = rdd.map(lambda x: x * x)\n",
    "\n",
    "# Print the first 10 elements of the squared data\n",
    "print(\"Squared data before reduce:\", squared_rdd.take(10))\n",
    "\n",
    "# Action: Sum the squared values\n",
    "sum_of_squares = squared_rdd.reduce(lambda x, y: x + y)\n",
    "\n",
    "# Print the results\n",
    "print(\"Original data:\", data)\n",
    "print(\"Sum of squared values:\", sum_of_squares)\n",
    "\n",
    "# Stop the SparkContext\n",
    "sc.stop()\n"
   ]
  },
  {
   "cell_type": "code",
   "execution_count": 5,
   "metadata": {},
   "outputs": [
    {
     "name": "stderr",
     "output_type": "stream",
     "text": [
      "java version \"21.0.1\" 2023-10-17 LTS\n",
      "Java(TM) SE Runtime Environment (build 21.0.1+12-LTS-29)\n",
      "Java HotSpot(TM) 64-Bit Server VM (build 21.0.1+12-LTS-29, mixed mode, sharing)\n"
     ]
    }
   ],
   "source": [
    "!java -version"
   ]
  }
 ],
 "metadata": {
  "kernelspec": {
   "display_name": "base",
   "language": "python",
   "name": "python3"
  },
  "language_info": {
   "codemirror_mode": {
    "name": "ipython",
    "version": 3
   },
   "file_extension": ".py",
   "mimetype": "text/x-python",
   "name": "python",
   "nbconvert_exporter": "python",
   "pygments_lexer": "ipython3",
   "version": "3.11.5"
  }
 },
 "nbformat": 4,
 "nbformat_minor": 2
}
