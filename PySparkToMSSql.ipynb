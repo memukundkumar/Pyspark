{
 "cells": [
  {
   "cell_type": "code",
   "execution_count": 0,
   "metadata": {
    "application/vnd.databricks.v1+cell": {
     "cellMetadata": {
      "byteLimit": 2048000,
      "rowLimit": 10000
     },
     "inputWidgets": {},
     "nuid": "f9564d18-bf9d-4f10-9d58-3ac07cef909b",
     "showTitle": false,
     "title": ""
    }
   },
   "outputs": [
    {
     "output_type": "display_data",
     "data": {
      "text/plain": [
       "\u001B[0;31m---------------------------------------------------------------------------\u001B[0m\n",
       "\u001B[0;31mError\u001B[0m                                     Traceback (most recent call last)\n",
       "File \u001B[0;32m<command-3505999260964659>:5\u001B[0m\n",
       "\u001B[1;32m      2\u001B[0m \u001B[38;5;28;01mimport\u001B[39;00m \u001B[38;5;21;01mpyodbc\u001B[39;00m\n",
       "\u001B[1;32m      4\u001B[0m \u001B[38;5;66;03m# Establish connection to the SQL database\u001B[39;00m\n",
       "\u001B[0;32m----> 5\u001B[0m conn \u001B[38;5;241m=\u001B[39m pyodbc\u001B[38;5;241m.\u001B[39mconnect(\u001B[38;5;124m'\u001B[39m\u001B[38;5;124mDriver=\u001B[39m\u001B[38;5;124m{\u001B[39m\u001B[38;5;124mSQL Server};\u001B[39m\u001B[38;5;124m'\u001B[39m\n",
       "\u001B[1;32m      6\u001B[0m                       \u001B[38;5;124m'\u001B[39m\u001B[38;5;124mServer=MUKUND-PC\u001B[39m\u001B[38;5;124m\\\u001B[39m\u001B[38;5;124mSQLEXPRESS;\u001B[39m\u001B[38;5;124m'\u001B[39m\n",
       "\u001B[1;32m      7\u001B[0m                       \u001B[38;5;124m'\u001B[39m\u001B[38;5;124mDatabase=bigdb;\u001B[39m\u001B[38;5;124m'\u001B[39m\n",
       "\u001B[1;32m      8\u001B[0m                       \u001B[38;5;124m'\u001B[39m\u001B[38;5;124mTrusted_Connection=yes;\u001B[39m\u001B[38;5;124m'\u001B[39m)\n",
       "\u001B[1;32m     10\u001B[0m cursor \u001B[38;5;241m=\u001B[39m conn\u001B[38;5;241m.\u001B[39mcursor()\n",
       "\u001B[1;32m     12\u001B[0m \u001B[38;5;66;03m# Read data from the CSV file\u001B[39;00m\n",
       "\n",
       "\u001B[0;31mError\u001B[0m: ('01000', \"[01000] [unixODBC][Driver Manager]Can't open lib 'SQL Server' : file not found (0) (SQLDriverConnect)\")"
      ]
     },
     "metadata": {
      "application/vnd.databricks.v1+output": {
       "arguments": {},
       "data": "\u001B[0;31m---------------------------------------------------------------------------\u001B[0m\n\u001B[0;31mError\u001B[0m                                     Traceback (most recent call last)\nFile \u001B[0;32m<command-3505999260964659>:5\u001B[0m\n\u001B[1;32m      2\u001B[0m \u001B[38;5;28;01mimport\u001B[39;00m \u001B[38;5;21;01mpyodbc\u001B[39;00m\n\u001B[1;32m      4\u001B[0m \u001B[38;5;66;03m# Establish connection to the SQL database\u001B[39;00m\n\u001B[0;32m----> 5\u001B[0m conn \u001B[38;5;241m=\u001B[39m pyodbc\u001B[38;5;241m.\u001B[39mconnect(\u001B[38;5;124m'\u001B[39m\u001B[38;5;124mDriver=\u001B[39m\u001B[38;5;124m{\u001B[39m\u001B[38;5;124mSQL Server};\u001B[39m\u001B[38;5;124m'\u001B[39m\n\u001B[1;32m      6\u001B[0m                       \u001B[38;5;124m'\u001B[39m\u001B[38;5;124mServer=MUKUND-PC\u001B[39m\u001B[38;5;124m\\\u001B[39m\u001B[38;5;124mSQLEXPRESS;\u001B[39m\u001B[38;5;124m'\u001B[39m\n\u001B[1;32m      7\u001B[0m                       \u001B[38;5;124m'\u001B[39m\u001B[38;5;124mDatabase=bigdb;\u001B[39m\u001B[38;5;124m'\u001B[39m\n\u001B[1;32m      8\u001B[0m                       \u001B[38;5;124m'\u001B[39m\u001B[38;5;124mTrusted_Connection=yes;\u001B[39m\u001B[38;5;124m'\u001B[39m)\n\u001B[1;32m     10\u001B[0m cursor \u001B[38;5;241m=\u001B[39m conn\u001B[38;5;241m.\u001B[39mcursor()\n\u001B[1;32m     12\u001B[0m \u001B[38;5;66;03m# Read data from the CSV file\u001B[39;00m\n\n\u001B[0;31mError\u001B[0m: ('01000', \"[01000] [unixODBC][Driver Manager]Can't open lib 'SQL Server' : file not found (0) (SQLDriverConnect)\")",
       "errorSummary": "<span class='ansi-red-fg'>Error</span>: ('01000', \"[01000] [unixODBC][Driver Manager]Can't open lib 'SQL Server' : file not found (0) (SQLDriverConnect)\")",
       "errorTraceType": "ansi",
       "metadata": {},
       "type": "ipynbError"
      }
     },
     "output_type": "display_data"
    }
   ],
   "source": [
    "import csv\n",
    "import pyodbc\n",
    "\n",
    "# Establish connection to the SQL database\n",
    "conn = pyodbc.connect('Driver={SQL Server};'\n",
    "                      'Server=MUKUND-PC\\SQLEXPRESS;'\n",
    "                      'Database=bigdb;'\n",
    "                      'Trusted_Connection=yes;')\n",
    "\n",
    "cursor = conn.cursor()\n",
    "\n",
    "# Read data from the CSV file\n",
    "with open('F:\\\\MUKUND\\\\DataSets\\\\customer.csv', 'r') as csvfile:\n",
    "    csv_reader = csv.reader(csvfile)\n",
    "\n",
    "    # Skip the header row if it exists\n",
    "    next(csv_reader)\n",
    "\n",
    "    # Iterate through each row of the CSV file and insert data into the SQL table\n",
    "    for row in csv_reader:\n",
    "        custid = row[0]\n",
    "        name = row[1]\n",
    "        age = row[2]\n",
    "        profession = row[3]\n",
    "\n",
    "        cursor.execute('''\n",
    "            INSERT INTO customer (custid, name, age, profession)\n",
    "            VALUES (?, ?, ?, ?)\n",
    "        ''', (custid, name, age, profession))\n",
    "\n",
    "# Commit the changes to the SQL database\n",
    "conn.commit()\n",
    "\n",
    "# Close the CSV file and the connection to the SQL database\n",
    "csvfile.close()\n",
    "conn.close()\n",
    "print('Data Inserted')\n",
    "\n",
    "\n",
    "import pyodbc \n",
    "conn = pyodbc.connect('Driver={SQL Server};'\n",
    "                      'Server=MUKUND-PC\\SQLEXPRESS;'\n",
    "                      'Database=bigdb;'\n",
    "                      'Trusted_Connection=yes;')\n",
    " \n",
    "cursor = conn.cursor()\n",
    "cursor.execute('SELECT * FROM customer')\n",
    " \n",
    "for i in cursor:\n",
    "    print(i)\n",
    "\n"
   ]
  }
 ],
 "metadata": {
  "application/vnd.databricks.v1+notebook": {
   "dashboards": [],
   "language": "python",
   "notebookMetadata": {
    "pythonIndentUnit": 4
   },
   "notebookName": "Untitled Notebook 2023-12-07 13:47:04",
   "widgets": {}
  }
 },
 "nbformat": 4,
 "nbformat_minor": 0
}
