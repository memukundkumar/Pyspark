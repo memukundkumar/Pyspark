{
 "cells": [
  {
   "cell_type": "code",
   "execution_count": 4,
   "metadata": {},
   "outputs": [
    {
     "name": "stdout",
     "output_type": "stream",
     "text": [
      "+-----------+------------+--------------+--------+---------+---------+-------------+--------------+----------+---------+--------------+-------------+-----------+-------------+--------------+-----------------+-----------+--------------------+--------------+------------+--------------------+\n",
      "|InvoiceDate|        Make|   CountryName|IsDealer|SalePrice|CostPrice|TotalDiscount|DeliveryCharge|SpareParts|LaborCost|    ClientName|        Model|      Color|ReportingYear|ReportingMonth|Registration_Date|VehicleType|       InvoiceNumber|CountryISOCode|OuterPostode|              Region|\n",
      "+-----------+------------+--------------+--------+---------+---------+-------------+--------------+----------+---------+--------------+-------------+-----------+-------------+--------------+-----------------+-----------+--------------------+--------------+------------+--------------------+\n",
      "| 02/02/2012| Rolls Royce|United Kingdom|    NULL|    88000|    75000|        750.0|          1000|       750|      550| Bright Orange| Silver Ghost|      Green|         2012|             2|       08/09/2006|     Saloon|D35D72CD-5FF3-470...|           GBR|           B|       West Midlands|\n",
      "| 04/06/2012|Aston Martin|United Kingdom|    NULL|   110000|    56000|        750.0|           500|       900|      550| Bright Orange|          DBS|Dark Purple|         2012|             6|       09/08/1991|      Coupe|F1B566F0-D137-481...|           GBR|           B|       West Midlands|\n",
      "| 04/07/2012|Aston Martin|        France|    NULL|   125000|    23500|       2500.0|          1000|       900|      550|Les Arnaqueurs|          DB7|        Red|         2012|             7|       08/05/1992|      Coupe|ADFFAC9E-DFF3-4BA...|           FRA|        NULL|                NULL|\n",
      "| 04/12/2012|Aston Martin|United Kingdom|    NULL|    95000|   155000|       5000.0|          1500|       600|      570| Bright Orange|       Rapide|      Black|         2012|            12|       08/09/2004|      Coupe|B47CA156-7077-469...|           GBR|           B|       West Midlands|\n",
      "| 02/05/2013| Rolls Royce|United Kingdom|    NULL|   178500|    75890|        950.0|          1750|       450|      321|   Honest John|Silver Shadow|        Red|         2013|             5|       08/06/2005|     Saloon|EA924C34-F8FD-4E2...|           GBR|          EC|Greater London Au...|\n",
      "| 02/07/2013| Rolls Royce|United Kingdom|    NULL|   102500|    62000|       1750.0|           500|       400|      987|   Aldo Motors| Silver Ghost|      Black|         2013|             7|       05/05/2001|     Saloon|00B971F3-33DD-4DB...|           GBR|          ST|       East Midlands|\n",
      "| 02/11/2013| Rolls Royce|United Kingdom|    NULL|   130000|    75890|        750.0|          1750|       300|      321|    Cut'n'Shut| Silver Ghost|        Red|         2013|            11|       01/06/1997|     Saloon|F27B2319-E4C9-47E...|           GBR|           M|          North West|\n",
      "| 02/06/2013|Aston Martin|United Kingdom|    NULL|   178500|    62000|        750.0|           450|       750|      654|   Honest John|     Vanquish|     Silver|         2013|             6|       08/05/1998|      Coupe|CBB7BE97-946A-44F...|           GBR|          EC|Greater London Au...|\n",
      "| 02/07/2013|Aston Martin|United Kingdom|    NULL|   124500|    62000|       1000.0|           450|       850|      984|   Aldo Motors|     Vanquish|      Green|         2013|             7|       01/06/1997|      Coupe|94DD6D1C-6617-4ED...|           GBR|          ST|       East Midlands|\n",
      "| 02/08/2013|Aston Martin|United Kingdom|    NULL|   130000|    62000|       1250.0|           450|       950|      895|   Aldo Motors|          DB9|       Blue|         2013|             8|       09/05/2007|      Coupe|294FB7EA-E07A-4AB...|           GBR|          ST|       East Midlands|\n",
      "+-----------+------------+--------------+--------+---------+---------+-------------+--------------+----------+---------+--------------+-------------+-----------+-------------+--------------+-----------------+-----------+--------------------+--------------+------------+--------------------+\n",
      "only showing top 10 rows\n",
      "\n"
     ]
    }
   ],
   "source": [
    "#df = spark.read.csv(\"F:\\MUKUND\\Big Data Hadoop\\CDAC\\Dataset\\carsales.csv\")\n",
    "from pyspark.sql import SparkSession\n",
    "\n",
    "# Create a Spark session\n",
    "spark = SparkSession.builder.appName(\"CSVDisplay\").getOrCreate()\n",
    "\n",
    "# Replace 'your_file.csv' with the actual path to your CSV file\n",
    "csv_file_path = \"F:\\MUKUND\\Big Data Hadoop\\Dataset\\carsales.csv\"\n",
    "\n",
    "# Read the CSV file into a DataFrame\n",
    "df = spark.read.csv(csv_file_path, header=True, inferSchema=True)\n",
    "\n",
    "################\n",
    "# Show the contents of the DataFrame\n",
    "#df.show()\n",
    "################\n",
    "# Shows 5 rows of the DataFrame\n",
    "#df.show(5)\n",
    "################\n",
    "# Select specific columns\n",
    "#selected_columns = df.select(\"make\", \"saleprice\", \"costprice\")\n",
    "\n",
    "# Show the top 10 rows of the selected columns\n",
    "#selected_columns.show(5)\n",
    "################\n",
    "# Filter rows where total discount is more than 500\n",
    "filtered_df = df.filter(df[\"totaldiscount\"] > 500)\n",
    "\n",
    "# Show the top 10 rows of the filtered DataFrame\n",
    "filtered_df.show(10)\n",
    "# Stop the Spark session\n",
    "spark.stop()\n"
   ]
  }
 ],
 "metadata": {
  "kernelspec": {
   "display_name": "Python 3",
   "language": "python",
   "name": "python3"
  },
  "language_info": {
   "codemirror_mode": {
    "name": "ipython",
    "version": 3
   },
   "file_extension": ".py",
   "mimetype": "text/x-python",
   "name": "python",
   "nbconvert_exporter": "python",
   "pygments_lexer": "ipython3",
   "version": "3.11.6"
  }
 },
 "nbformat": 4,
 "nbformat_minor": 2
}
