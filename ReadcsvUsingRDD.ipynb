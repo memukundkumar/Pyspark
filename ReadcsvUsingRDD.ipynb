{
 "cells": [
  {
   "cell_type": "code",
   "execution_count": 5,
   "metadata": {},
   "outputs": [
    {
     "name": "stdout",
     "output_type": "stream",
     "text": [
      "Using existing SparkContext.\n",
      "InvoiceDate,Make,CountryName,IsDealer,SalePrice,CostPrice,TotalDiscount,DeliveryCharge,SpareParts,LaborCost,ClientName,Model,Color,ReportingYear,ReportingMonth,Registration_Date,VehicleType,InvoiceNumber,CountryISOCode,OuterPostode,Region\n",
      "04/10/2012,Rolls Royce,United Kingdom,NULL,95000,50000,500,750,500,750,Aldo Motors,Camargue,Red,2012,10,08/01/1985,Saloon,8B3D7F83-F42C-4523-A737-CDCBF7705B77,GBR,ST,East Midlands\n",
      "01/01/2012,Aston Martin,United Kingdom,NULL,120000,75000,0,1500,600,550,Honest John,DBS,Blue,2012,1,09/05/2007,Coupe,139BEEEF-FF32-4BE9-9EF1-819AC888B85C,GBR,EC,Greater London Authority\n",
      "02/02/2012,Rolls Royce,United Kingdom,NULL,88000,75000,750,1000,750,550,Bright Orange,Silver Ghost,Green,2012,2,08/09/2006,Saloon,D35D72CD-5FF3-4701-A6D1-265A4F4E7CD5,GBR,B,West Midlands\n",
      "03/03/2012,Rolls Royce,United Kingdom,NULL,89000,88000,0,1000,85,550,Honest John,Silver Ghost,Blue,2012,3,05/01/1987,Saloon,2ABAA300-E2A5-4E37-BFCA-7B80ED88A2BD,GBR,EC,Greater London Authority\n",
      "04/04/2012,Rolls Royce,United Kingdom,NULL,92000,62000,0,1500,2500,550,Wheels'R'Us,Camargue,Canary Yellow,2012,4,08/01/1985,Saloon,A1C2D846-EC39-46FA-A399-0C194AAD4DC8,GBR,NE,Greater London Authority\n",
      "04/05/2012,Rolls Royce,United Kingdom,NULL,102500,125000,0,1000,4000,550,Cut'n'Shut,Camargue,British Racing Green,2012,5,06/05/1986,Saloon,1B8F325A-CC41-4BA6-A486-9D44962E40A3,GBR,M,North West\n",
      "04/06/2012,Aston Martin,United Kingdom,NULL,110000,56000,750,500,900,550,Bright Orange,DBS,Dark Purple,2012,6,09/08/1991,Coupe,F1B566F0-D137-4810-B449-575438F3F392,GBR,B,West Midlands\n",
      "04/07/2012,Aston Martin,France,NULL,125000,23500,2500,1000,900,550,Les Arnaqueurs,DB7,Red,2012,7,08/05/1992,Coupe,ADFFAC9E-DFF3-4BAB-9EC4-DEE9A2B69350,FRA,NULL,NULL\n",
      "04/08/2012,Aston Martin,United Kingdom,NULL,130000,15500,0,1000,900,750,Aldo Motors,DB9,Blue,2012,8,08/09/2005,Coupe,15A3BC61-82BD-4CCD-8F0B-49EEE59AF4B7,GBR,ST,East Midlands\n"
     ]
    }
   ],
   "source": [
    "from pyspark import SparkContext, SparkConf\n",
    "\n",
    "# Check if a SparkContext already exists\n",
    "try:\n",
    "    sc = SparkContext.getOrCreate()\n",
    "    print(\"Using existing SparkContext.\")\n",
    "except:\n",
    "    # If not, create a new SparkContext\n",
    "    conf = SparkConf().setAppName(\"CSVReadRDD\")\n",
    "    sc = SparkContext(conf=conf)\n",
    "    print(\"Created a new SparkContext.\")\n",
    "\n",
    "# Replace 'your_file.csv' with the actual path to your CSV file\n",
    "csv_file_path = \"F:\\MUKUND\\Big Data Hadoop\\CDAC\\Dataset\\carsales.csv\"\n",
    "\n",
    "# Read the CSV file into an RDD\n",
    "csv_rdd = sc.textFile(csv_file_path)\n",
    "\n",
    "# Display the first 10 rows of the RDD\n",
    "for row in csv_rdd.take(10):\n",
    "    print(row)\n",
    "\n",
    "# Stop the Spark context (if created in this script)\n",
    "if \"sc\" in locals():\n",
    "    sc.stop()\n"
   ]
  }
 ],
 "metadata": {
  "kernelspec": {
   "display_name": "Python 3",
   "language": "python",
   "name": "python3"
  },
  "language_info": {
   "codemirror_mode": {
    "name": "ipython",
    "version": 3
   },
   "file_extension": ".py",
   "mimetype": "text/x-python",
   "name": "python",
   "nbconvert_exporter": "python",
   "pygments_lexer": "ipython3",
   "version": "3.11.6"
  }
 },
 "nbformat": 4,
 "nbformat_minor": 2
}
